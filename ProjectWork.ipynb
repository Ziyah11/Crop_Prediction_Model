{
  "cells": [
    {
      "cell_type": "markdown",
      "metadata": {
        "id": "BzikeIz-iiHa"
      },
      "source": [
        "\n",
        "\n",
        "# **Crop yield Prediction model built by Oluyemi Isaiah(Ziyah)**\n"
      ]
    },
    {
      "cell_type": "markdown",
      "metadata": {
        "id": "b2Zy_j0XhPun"
      },
      "source": [
        "##Project Overview\n",
        "This machine learning project centers on predicting crop yields, a pivotal aspect of agriculture with direct implications for food production and resource planning. The project aims to harness historical crop yield data and relevant features to build a machine learning model capable of accurately forecasting future crop yields. Factors such as weather conditions, soil quality, and farming practices play a crucial role in influencing crop yields, making it imperative to develop a robust predictive model."
      ]
    },
    {
      "cell_type": "markdown",
      "metadata": {
        "id": "5KJQkh9nighm"
      },
      "source": [
        "### **Objective**\n",
        "The primary objective is to develop a resilient machine learning model that can accurately predict crop yields based on historical trends and key influencing factors. The project aims to achieve this by analyzing historical crop yield data and incorporating pertinent features, including weather patterns, soil quality, and farming practices. The ultimate goal is to provide a tool that supports decision-making in the agricultural sector."
      ]
    },
    {
      "cell_type": "markdown",
      "metadata": {
        "id": "kswPvuMJmpH3"
      },
      "source": [
        "##  **Brief explanation of each column:**\n",
        "Fertilizer : Representing the quantity or concentration of fertilizer applied in some units\n",
        "\n",
        "Temperature: Temperature conditions during the farming period.\n",
        "\n",
        "Nitrogen (N): Amount of nitrogen present in the fertilizer or soil, typically measured in pounds per acre.\n",
        "\n",
        "Phosphorus (P): Amount of phosphorus present in the fertilizer or soil, typically measured in pounds per acre.\n",
        "\n",
        "Potassium (K): Amount of potassium present in the fertilizer or soil, typically measured in pounds per acre.\n",
        "\n",
        "Yield (Q/acre): The quantity of crop harvested per acre, typically measured in bushels, tons, or other appropriate units."
      ]
    },
    {
      "cell_type": "markdown",
      "metadata": {
        "id": "kL2mpv6fnqY9"
      },
      "source": [
        "### **Steps to be Taken**\n",
        "1. **Data gathering and exploration**\n",
        "\n",
        "Acquire historical crop yield data from reliable sources, such as agricultural databases, government publications, or online repositories. in my case my dataset was sourced from Kaggle. They are world's largest data science community with powerful tools and resources. Before i go into details, i will be importing the libraries that i will be using for the projects.\n",
        "\n"
      ]
    },
    {
      "cell_type": "markdown",
      "metadata": {
        "id": "yJ1NXoUn2nMM"
      },
      "source": [
        "### Importing the libraries for the project.\n",
        "  "
      ]
    },
    {
      "cell_type": "code",
      "execution_count": 14,
      "metadata": {
        "id": "pDBGS2d4cV_X"
      },
      "outputs": [],
      "source": [
        "import pandas as pd\n",
        "import numpy as np\n",
        "import matplotlib.pyplot as plt\n",
        "import seaborn as sns\n",
        "from sklearn.model_selection import train_test_split\n",
        "import joblib\n",
        "import warnings\n",
        "warnings.filterwarnings('ignore')"
      ]
    },
    {
      "cell_type": "markdown",
      "metadata": {
        "id": "4jRnBlrd3g2W"
      },
      "source": [
        "### load data and perform neccessary preprocessing tasks.\n"
      ]
    },
    {
      "cell_type": "code",
      "execution_count": 15,
      "metadata": {
        "colab": {
          "base_uri": "https://localhost:8080/",
          "height": 423
        },
        "id": "HMGdkpPXcoEE",
        "outputId": "1aa694b9-6286-4346-e175-cadf995c27b5"
      },
      "outputs": [
        {
          "data": {
            "text/html": [
              "<div>\n",
              "<style scoped>\n",
              "    .dataframe tbody tr th:only-of-type {\n",
              "        vertical-align: middle;\n",
              "    }\n",
              "\n",
              "    .dataframe tbody tr th {\n",
              "        vertical-align: top;\n",
              "    }\n",
              "\n",
              "    .dataframe thead th {\n",
              "        text-align: right;\n",
              "    }\n",
              "</style>\n",
              "<table border=\"1\" class=\"dataframe\">\n",
              "  <thead>\n",
              "    <tr style=\"text-align: right;\">\n",
              "      <th></th>\n",
              "      <th>Rain Fall (mm)</th>\n",
              "      <th>Fertilizer</th>\n",
              "      <th>Temperatue</th>\n",
              "      <th>Nitrogen (N)</th>\n",
              "      <th>Phosphorus (P)</th>\n",
              "      <th>Potassium (K)</th>\n",
              "      <th>Yeild (Q/acre)</th>\n",
              "    </tr>\n",
              "  </thead>\n",
              "  <tbody>\n",
              "    <tr>\n",
              "      <th>0</th>\n",
              "      <td>1230.0</td>\n",
              "      <td>80.0</td>\n",
              "      <td>28</td>\n",
              "      <td>80.0</td>\n",
              "      <td>24.0</td>\n",
              "      <td>20.0</td>\n",
              "      <td>12.0</td>\n",
              "    </tr>\n",
              "    <tr>\n",
              "      <th>1</th>\n",
              "      <td>480.0</td>\n",
              "      <td>60.0</td>\n",
              "      <td>36</td>\n",
              "      <td>70.0</td>\n",
              "      <td>20.0</td>\n",
              "      <td>18.0</td>\n",
              "      <td>8.0</td>\n",
              "    </tr>\n",
              "    <tr>\n",
              "      <th>2</th>\n",
              "      <td>1250.0</td>\n",
              "      <td>75.0</td>\n",
              "      <td>29</td>\n",
              "      <td>78.0</td>\n",
              "      <td>22.0</td>\n",
              "      <td>19.0</td>\n",
              "      <td>11.0</td>\n",
              "    </tr>\n",
              "    <tr>\n",
              "      <th>3</th>\n",
              "      <td>450.0</td>\n",
              "      <td>65.0</td>\n",
              "      <td>35</td>\n",
              "      <td>70.0</td>\n",
              "      <td>19.0</td>\n",
              "      <td>18.0</td>\n",
              "      <td>9.0</td>\n",
              "    </tr>\n",
              "    <tr>\n",
              "      <th>4</th>\n",
              "      <td>1200.0</td>\n",
              "      <td>80.0</td>\n",
              "      <td>27</td>\n",
              "      <td>79.0</td>\n",
              "      <td>22.0</td>\n",
              "      <td>19.0</td>\n",
              "      <td>11.0</td>\n",
              "    </tr>\n",
              "    <tr>\n",
              "      <th>...</th>\n",
              "      <td>...</td>\n",
              "      <td>...</td>\n",
              "      <td>...</td>\n",
              "      <td>...</td>\n",
              "      <td>...</td>\n",
              "      <td>...</td>\n",
              "      <td>...</td>\n",
              "    </tr>\n",
              "    <tr>\n",
              "      <th>104</th>\n",
              "      <td>NaN</td>\n",
              "      <td>NaN</td>\n",
              "      <td>NaN</td>\n",
              "      <td>NaN</td>\n",
              "      <td>NaN</td>\n",
              "      <td>NaN</td>\n",
              "      <td>NaN</td>\n",
              "    </tr>\n",
              "    <tr>\n",
              "      <th>105</th>\n",
              "      <td>NaN</td>\n",
              "      <td>NaN</td>\n",
              "      <td>NaN</td>\n",
              "      <td>NaN</td>\n",
              "      <td>NaN</td>\n",
              "      <td>NaN</td>\n",
              "      <td>NaN</td>\n",
              "    </tr>\n",
              "    <tr>\n",
              "      <th>106</th>\n",
              "      <td>NaN</td>\n",
              "      <td>NaN</td>\n",
              "      <td>NaN</td>\n",
              "      <td>NaN</td>\n",
              "      <td>NaN</td>\n",
              "      <td>NaN</td>\n",
              "      <td>NaN</td>\n",
              "    </tr>\n",
              "    <tr>\n",
              "      <th>107</th>\n",
              "      <td>NaN</td>\n",
              "      <td>NaN</td>\n",
              "      <td>NaN</td>\n",
              "      <td>NaN</td>\n",
              "      <td>NaN</td>\n",
              "      <td>NaN</td>\n",
              "      <td>NaN</td>\n",
              "    </tr>\n",
              "    <tr>\n",
              "      <th>108</th>\n",
              "      <td>NaN</td>\n",
              "      <td>NaN</td>\n",
              "      <td>:</td>\n",
              "      <td>NaN</td>\n",
              "      <td>NaN</td>\n",
              "      <td>NaN</td>\n",
              "      <td>NaN</td>\n",
              "    </tr>\n",
              "  </tbody>\n",
              "</table>\n",
              "<p>109 rows × 7 columns</p>\n",
              "</div>"
            ],
            "text/plain": [
              "     Rain Fall (mm)  Fertilizer Temperatue  Nitrogen (N)  Phosphorus (P)  \\\n",
              "0            1230.0        80.0         28          80.0            24.0   \n",
              "1             480.0        60.0         36          70.0            20.0   \n",
              "2            1250.0        75.0         29          78.0            22.0   \n",
              "3             450.0        65.0         35          70.0            19.0   \n",
              "4            1200.0        80.0         27          79.0            22.0   \n",
              "..              ...         ...        ...           ...             ...   \n",
              "104             NaN         NaN        NaN           NaN             NaN   \n",
              "105             NaN         NaN        NaN           NaN             NaN   \n",
              "106             NaN         NaN        NaN           NaN             NaN   \n",
              "107             NaN         NaN        NaN           NaN             NaN   \n",
              "108             NaN         NaN          :           NaN             NaN   \n",
              "\n",
              "     Potassium (K)  Yeild (Q/acre)  \n",
              "0             20.0            12.0  \n",
              "1             18.0             8.0  \n",
              "2             19.0            11.0  \n",
              "3             18.0             9.0  \n",
              "4             19.0            11.0  \n",
              "..             ...             ...  \n",
              "104            NaN             NaN  \n",
              "105            NaN             NaN  \n",
              "106            NaN             NaN  \n",
              "107            NaN             NaN  \n",
              "108            NaN             NaN  \n",
              "\n",
              "[109 rows x 7 columns]"
            ]
          },
          "execution_count": 15,
          "metadata": {},
          "output_type": "execute_result"
        }
      ],
      "source": [
        "data= pd.read_excel('crop yield data sheet.xlsx')\n",
        "data\n",
        "\n"
      ]
    },
    {
      "cell_type": "code",
      "execution_count": 16,
      "metadata": {
        "colab": {
          "base_uri": "https://localhost:8080/",
          "height": 300
        },
        "id": "WS4WQkd5329h",
        "outputId": "4d00a342-a929-4ad0-a8c2-6f882d5cdd88"
      },
      "outputs": [
        {
          "data": {
            "text/html": [
              "<div>\n",
              "<style scoped>\n",
              "    .dataframe tbody tr th:only-of-type {\n",
              "        vertical-align: middle;\n",
              "    }\n",
              "\n",
              "    .dataframe tbody tr th {\n",
              "        vertical-align: top;\n",
              "    }\n",
              "\n",
              "    .dataframe thead th {\n",
              "        text-align: right;\n",
              "    }\n",
              "</style>\n",
              "<table border=\"1\" class=\"dataframe\">\n",
              "  <thead>\n",
              "    <tr style=\"text-align: right;\">\n",
              "      <th></th>\n",
              "      <th>Rain Fall (mm)</th>\n",
              "      <th>Fertilizer</th>\n",
              "      <th>Nitrogen (N)</th>\n",
              "      <th>Phosphorus (P)</th>\n",
              "      <th>Potassium (K)</th>\n",
              "      <th>Yeild (Q/acre)</th>\n",
              "    </tr>\n",
              "  </thead>\n",
              "  <tbody>\n",
              "    <tr>\n",
              "      <th>count</th>\n",
              "      <td>99.000000</td>\n",
              "      <td>99.000000</td>\n",
              "      <td>99.000000</td>\n",
              "      <td>99.000000</td>\n",
              "      <td>99.000000</td>\n",
              "      <td>99.000000</td>\n",
              "    </tr>\n",
              "    <tr>\n",
              "      <th>mean</th>\n",
              "      <td>849.797980</td>\n",
              "      <td>67.808081</td>\n",
              "      <td>70.737374</td>\n",
              "      <td>21.131313</td>\n",
              "      <td>18.060606</td>\n",
              "      <td>9.050505</td>\n",
              "    </tr>\n",
              "    <tr>\n",
              "      <th>std</th>\n",
              "      <td>400.042676</td>\n",
              "      <td>10.028202</td>\n",
              "      <td>6.677079</td>\n",
              "      <td>1.951695</td>\n",
              "      <td>1.817254</td>\n",
              "      <td>1.965902</td>\n",
              "    </tr>\n",
              "    <tr>\n",
              "      <th>min</th>\n",
              "      <td>400.000000</td>\n",
              "      <td>50.000000</td>\n",
              "      <td>59.000000</td>\n",
              "      <td>18.000000</td>\n",
              "      <td>15.000000</td>\n",
              "      <td>5.500000</td>\n",
              "    </tr>\n",
              "    <tr>\n",
              "      <th>25%</th>\n",
              "      <td>450.000000</td>\n",
              "      <td>60.000000</td>\n",
              "      <td>65.000000</td>\n",
              "      <td>19.500000</td>\n",
              "      <td>16.000000</td>\n",
              "      <td>7.000000</td>\n",
              "    </tr>\n",
              "    <tr>\n",
              "      <th>50%</th>\n",
              "      <td>1150.000000</td>\n",
              "      <td>70.000000</td>\n",
              "      <td>71.000000</td>\n",
              "      <td>21.000000</td>\n",
              "      <td>19.000000</td>\n",
              "      <td>9.000000</td>\n",
              "    </tr>\n",
              "    <tr>\n",
              "      <th>75%</th>\n",
              "      <td>1237.500000</td>\n",
              "      <td>77.000000</td>\n",
              "      <td>77.000000</td>\n",
              "      <td>23.000000</td>\n",
              "      <td>19.000000</td>\n",
              "      <td>11.000000</td>\n",
              "    </tr>\n",
              "    <tr>\n",
              "      <th>max</th>\n",
              "      <td>1300.000000</td>\n",
              "      <td>80.000000</td>\n",
              "      <td>80.000000</td>\n",
              "      <td>25.000000</td>\n",
              "      <td>22.000000</td>\n",
              "      <td>12.000000</td>\n",
              "    </tr>\n",
              "  </tbody>\n",
              "</table>\n",
              "</div>"
            ],
            "text/plain": [
              "       Rain Fall (mm)  Fertilizer  Nitrogen (N)  Phosphorus (P)  \\\n",
              "count       99.000000   99.000000     99.000000       99.000000   \n",
              "mean       849.797980   67.808081     70.737374       21.131313   \n",
              "std        400.042676   10.028202      6.677079        1.951695   \n",
              "min        400.000000   50.000000     59.000000       18.000000   \n",
              "25%        450.000000   60.000000     65.000000       19.500000   \n",
              "50%       1150.000000   70.000000     71.000000       21.000000   \n",
              "75%       1237.500000   77.000000     77.000000       23.000000   \n",
              "max       1300.000000   80.000000     80.000000       25.000000   \n",
              "\n",
              "       Potassium (K)  Yeild (Q/acre)  \n",
              "count      99.000000       99.000000  \n",
              "mean       18.060606        9.050505  \n",
              "std         1.817254        1.965902  \n",
              "min        15.000000        5.500000  \n",
              "25%        16.000000        7.000000  \n",
              "50%        19.000000        9.000000  \n",
              "75%        19.000000       11.000000  \n",
              "max        22.000000       12.000000  "
            ]
          },
          "execution_count": 16,
          "metadata": {},
          "output_type": "execute_result"
        }
      ],
      "source": [
        "data.describe()"
      ]
    },
    {
      "cell_type": "code",
      "execution_count": 17,
      "metadata": {
        "colab": {
          "base_uri": "https://localhost:8080/"
        },
        "id": "me403d1S380k",
        "outputId": "effaddc4-584c-4466-8a03-d691318c3b02"
      },
      "outputs": [
        {
          "name": "stdout",
          "output_type": "stream",
          "text": [
            "<class 'pandas.core.frame.DataFrame'>\n",
            "RangeIndex: 109 entries, 0 to 108\n",
            "Data columns (total 7 columns):\n",
            " #   Column          Non-Null Count  Dtype  \n",
            "---  ------          --------------  -----  \n",
            " 0   Rain Fall (mm)  99 non-null     float64\n",
            " 1   Fertilizer      99 non-null     float64\n",
            " 2   Temperatue      100 non-null    object \n",
            " 3   Nitrogen (N)    99 non-null     float64\n",
            " 4   Phosphorus (P)  99 non-null     float64\n",
            " 5   Potassium (K)   99 non-null     float64\n",
            " 6   Yeild (Q/acre)  99 non-null     float64\n",
            "dtypes: float64(6), object(1)\n",
            "memory usage: 6.1+ KB\n"
          ]
        }
      ],
      "source": [
        "data.info()# This reveals that all the columns are floats data-types except for\n",
        "#Temperature which is in objects which shows the inconsistency."
      ]
    },
    {
      "cell_type": "code",
      "execution_count": 18,
      "metadata": {
        "colab": {
          "base_uri": "https://localhost:8080/"
        },
        "id": "CTW6WycsQCPa",
        "outputId": "2dc9eb30-9f9b-4772-da60-551f8dd61b99"
      },
      "outputs": [
        {
          "data": {
            "text/plain": [
              "Rain Fall (mm)    float64\n",
              "Fertilizer        float64\n",
              "Temperatue        float64\n",
              "Nitrogen (N)      float64\n",
              "Phosphorus (P)    float64\n",
              "Potassium (K)     float64\n",
              "Yeild (Q/acre)    float64\n",
              "dtype: object"
            ]
          },
          "execution_count": 18,
          "metadata": {},
          "output_type": "execute_result"
        }
      ],
      "source": [
        "data['Temperatue'] = pd.to_numeric(data['Temperatue'], errors = 'coerce') #----converting the column temperature to float.\n",
        "data.dtypes"
      ]
    },
    {
      "cell_type": "code",
      "execution_count": 19,
      "metadata": {
        "colab": {
          "base_uri": "https://localhost:8080/"
        },
        "id": "GyEbpFg7dXJx",
        "outputId": "144a8c35-acc0-4ec0-b39d-a257704538c3"
      },
      "outputs": [
        {
          "data": {
            "text/plain": [
              "Rain Fall (mm)    10\n",
              "Fertilizer        10\n",
              "Temperatue        10\n",
              "Nitrogen (N)      10\n",
              "Phosphorus (P)    10\n",
              "Potassium (K)     10\n",
              "Yeild (Q/acre)    10\n",
              "dtype: int64"
            ]
          },
          "execution_count": 19,
          "metadata": {},
          "output_type": "execute_result"
        }
      ],
      "source": [
        "data.isnull().sum()# This shows the number of missing values in each of the columns."
      ]
    },
    {
      "cell_type": "code",
      "execution_count": 20,
      "metadata": {
        "colab": {
          "base_uri": "https://localhost:8080/"
        },
        "id": "TQytwdFHJyd5",
        "outputId": "56899d07-56a2-4e18-d01d-6b9311ef2e61"
      },
      "outputs": [
        {
          "name": "stdout",
          "output_type": "stream",
          "text": [
            "Duplicate rows: 13\n"
          ]
        }
      ],
      "source": [
        "# Check for duplicate rows in the entire DataFrame\n",
        "duplicate_rows = data.duplicated().sum()\n",
        "print(f'Duplicate rows: {duplicate_rows}')\n"
      ]
    },
    {
      "cell_type": "code",
      "execution_count": 21,
      "metadata": {
        "colab": {
          "base_uri": "https://localhost:8080/",
          "height": 224
        },
        "id": "KYqJKryrERWi",
        "outputId": "e088de4a-46c9-4307-a883-4da7716786f9"
      },
      "outputs": [
        {
          "name": "stdout",
          "output_type": "stream",
          "text": [
            "Numerical Variables\n"
          ]
        },
        {
          "data": {
            "text/html": [
              "<div>\n",
              "<style scoped>\n",
              "    .dataframe tbody tr th:only-of-type {\n",
              "        vertical-align: middle;\n",
              "    }\n",
              "\n",
              "    .dataframe tbody tr th {\n",
              "        vertical-align: top;\n",
              "    }\n",
              "\n",
              "    .dataframe thead th {\n",
              "        text-align: right;\n",
              "    }\n",
              "</style>\n",
              "<table border=\"1\" class=\"dataframe\">\n",
              "  <thead>\n",
              "    <tr style=\"text-align: right;\">\n",
              "      <th></th>\n",
              "      <th>Rain Fall (mm)</th>\n",
              "      <th>Fertilizer</th>\n",
              "      <th>Temperatue</th>\n",
              "      <th>Nitrogen (N)</th>\n",
              "      <th>Phosphorus (P)</th>\n",
              "      <th>Potassium (K)</th>\n",
              "      <th>Yeild (Q/acre)</th>\n",
              "    </tr>\n",
              "  </thead>\n",
              "  <tbody>\n",
              "    <tr>\n",
              "      <th>0</th>\n",
              "      <td>1230.0</td>\n",
              "      <td>80.0</td>\n",
              "      <td>28.0</td>\n",
              "      <td>80.0</td>\n",
              "      <td>24.0</td>\n",
              "      <td>20.0</td>\n",
              "      <td>12.0</td>\n",
              "    </tr>\n",
              "    <tr>\n",
              "      <th>1</th>\n",
              "      <td>480.0</td>\n",
              "      <td>60.0</td>\n",
              "      <td>36.0</td>\n",
              "      <td>70.0</td>\n",
              "      <td>20.0</td>\n",
              "      <td>18.0</td>\n",
              "      <td>8.0</td>\n",
              "    </tr>\n",
              "    <tr>\n",
              "      <th>2</th>\n",
              "      <td>1250.0</td>\n",
              "      <td>75.0</td>\n",
              "      <td>29.0</td>\n",
              "      <td>78.0</td>\n",
              "      <td>22.0</td>\n",
              "      <td>19.0</td>\n",
              "      <td>11.0</td>\n",
              "    </tr>\n",
              "    <tr>\n",
              "      <th>3</th>\n",
              "      <td>450.0</td>\n",
              "      <td>65.0</td>\n",
              "      <td>35.0</td>\n",
              "      <td>70.0</td>\n",
              "      <td>19.0</td>\n",
              "      <td>18.0</td>\n",
              "      <td>9.0</td>\n",
              "    </tr>\n",
              "    <tr>\n",
              "      <th>4</th>\n",
              "      <td>1200.0</td>\n",
              "      <td>80.0</td>\n",
              "      <td>27.0</td>\n",
              "      <td>79.0</td>\n",
              "      <td>22.0</td>\n",
              "      <td>19.0</td>\n",
              "      <td>11.0</td>\n",
              "    </tr>\n",
              "  </tbody>\n",
              "</table>\n",
              "</div>"
            ],
            "text/plain": [
              "   Rain Fall (mm)  Fertilizer  Temperatue  Nitrogen (N)  Phosphorus (P)  \\\n",
              "0          1230.0        80.0        28.0          80.0            24.0   \n",
              "1           480.0        60.0        36.0          70.0            20.0   \n",
              "2          1250.0        75.0        29.0          78.0            22.0   \n",
              "3           450.0        65.0        35.0          70.0            19.0   \n",
              "4          1200.0        80.0        27.0          79.0            22.0   \n",
              "\n",
              "   Potassium (K)  Yeild (Q/acre)  \n",
              "0           20.0            12.0  \n",
              "1           18.0             8.0  \n",
              "2           19.0            11.0  \n",
              "3           18.0             9.0  \n",
              "4           19.0            11.0  "
            ]
          },
          "metadata": {},
          "output_type": "display_data"
        }
      ],
      "source": [
        "\n",
        "# Turning the columns to numerical variables\n",
        "num = data.select_dtypes(include = 'number')\n",
        "\n",
        "print(f'Numerical Variables')\n",
        "display(num.head())\n"
      ]
    },
    {
      "cell_type": "code",
      "execution_count": 22,
      "metadata": {
        "colab": {
          "base_uri": "https://localhost:8080/"
        },
        "id": "3CnKsit-M81I",
        "outputId": "bf60cd4f-2252-4c2c-8c97-2314d38ee697"
      },
      "outputs": [
        {
          "data": {
            "text/plain": [
              "Rain Fall (mm)    0\n",
              "Fertilizer        0\n",
              "Temperatue        0\n",
              "Nitrogen (N)      0\n",
              "Phosphorus (P)    0\n",
              "Potassium (K)     0\n",
              "Yeild (Q/acre)    0\n",
              "dtype: int64"
            ]
          },
          "execution_count": 22,
          "metadata": {},
          "output_type": "execute_result"
        }
      ],
      "source": [
        "#Cleaning the missing values\n",
        "\n",
        "for i in num.columns:\n",
        "    if i in data.columns:\n",
        "        data[i].fillna(data[i].median(), inplace = True)\n",
        "\n",
        "data.isnull().sum()"
      ]
    },
    {
      "cell_type": "code",
      "execution_count": 39,
      "metadata": {
        "id": "RtjcaS1z6lKJ"
      },
      "outputs": [],
      "source": [
        " #Renaming the columns for easy identification\n",
        "data.rename(columns = {'Yeild (Q/acre)': 'Yield', 'Rain Fall (mm)': 'RainFall', 'Nitrogen (N)' : 'Nitrogen', 'Phosphorus (P)' : 'Phosphorus', 'Potassium (K)' : 'Potassium', 'Temperatue' :'Temperature'}, inplace = True)"
      ]
    },
    {
      "cell_type": "code",
      "execution_count": 40,
      "metadata": {
        "colab": {
          "base_uri": "https://localhost:8080/",
          "height": 423
        },
        "id": "aMkugWiCWyCl",
        "outputId": "82715a9d-b27c-4d4a-e4d1-3a04b47e851c"
      },
      "outputs": [
        {
          "data": {
            "text/html": [
              "<div>\n",
              "<style scoped>\n",
              "    .dataframe tbody tr th:only-of-type {\n",
              "        vertical-align: middle;\n",
              "    }\n",
              "\n",
              "    .dataframe tbody tr th {\n",
              "        vertical-align: top;\n",
              "    }\n",
              "\n",
              "    .dataframe thead th {\n",
              "        text-align: right;\n",
              "    }\n",
              "</style>\n",
              "<table border=\"1\" class=\"dataframe\">\n",
              "  <thead>\n",
              "    <tr style=\"text-align: right;\">\n",
              "      <th></th>\n",
              "      <th>RainFall</th>\n",
              "      <th>Fertilizer</th>\n",
              "      <th>Temperature</th>\n",
              "      <th>Nitrogen</th>\n",
              "      <th>Phosphorus</th>\n",
              "      <th>Potassium</th>\n",
              "      <th>Yield</th>\n",
              "    </tr>\n",
              "  </thead>\n",
              "  <tbody>\n",
              "    <tr>\n",
              "      <th>0</th>\n",
              "      <td>1230.0</td>\n",
              "      <td>80.0</td>\n",
              "      <td>28.0</td>\n",
              "      <td>80.0</td>\n",
              "      <td>24.0</td>\n",
              "      <td>20.0</td>\n",
              "      <td>12.0</td>\n",
              "    </tr>\n",
              "    <tr>\n",
              "      <th>1</th>\n",
              "      <td>480.0</td>\n",
              "      <td>60.0</td>\n",
              "      <td>36.0</td>\n",
              "      <td>70.0</td>\n",
              "      <td>20.0</td>\n",
              "      <td>18.0</td>\n",
              "      <td>8.0</td>\n",
              "    </tr>\n",
              "    <tr>\n",
              "      <th>2</th>\n",
              "      <td>1250.0</td>\n",
              "      <td>75.0</td>\n",
              "      <td>29.0</td>\n",
              "      <td>78.0</td>\n",
              "      <td>22.0</td>\n",
              "      <td>19.0</td>\n",
              "      <td>11.0</td>\n",
              "    </tr>\n",
              "    <tr>\n",
              "      <th>3</th>\n",
              "      <td>450.0</td>\n",
              "      <td>65.0</td>\n",
              "      <td>35.0</td>\n",
              "      <td>70.0</td>\n",
              "      <td>19.0</td>\n",
              "      <td>18.0</td>\n",
              "      <td>9.0</td>\n",
              "    </tr>\n",
              "    <tr>\n",
              "      <th>4</th>\n",
              "      <td>1200.0</td>\n",
              "      <td>80.0</td>\n",
              "      <td>27.0</td>\n",
              "      <td>79.0</td>\n",
              "      <td>22.0</td>\n",
              "      <td>19.0</td>\n",
              "      <td>11.0</td>\n",
              "    </tr>\n",
              "    <tr>\n",
              "      <th>...</th>\n",
              "      <td>...</td>\n",
              "      <td>...</td>\n",
              "      <td>...</td>\n",
              "      <td>...</td>\n",
              "      <td>...</td>\n",
              "      <td>...</td>\n",
              "      <td>...</td>\n",
              "    </tr>\n",
              "    <tr>\n",
              "      <th>104</th>\n",
              "      <td>1150.0</td>\n",
              "      <td>70.0</td>\n",
              "      <td>29.0</td>\n",
              "      <td>71.0</td>\n",
              "      <td>21.0</td>\n",
              "      <td>19.0</td>\n",
              "      <td>9.0</td>\n",
              "    </tr>\n",
              "    <tr>\n",
              "      <th>105</th>\n",
              "      <td>1150.0</td>\n",
              "      <td>70.0</td>\n",
              "      <td>29.0</td>\n",
              "      <td>71.0</td>\n",
              "      <td>21.0</td>\n",
              "      <td>19.0</td>\n",
              "      <td>9.0</td>\n",
              "    </tr>\n",
              "    <tr>\n",
              "      <th>106</th>\n",
              "      <td>1150.0</td>\n",
              "      <td>70.0</td>\n",
              "      <td>29.0</td>\n",
              "      <td>71.0</td>\n",
              "      <td>21.0</td>\n",
              "      <td>19.0</td>\n",
              "      <td>9.0</td>\n",
              "    </tr>\n",
              "    <tr>\n",
              "      <th>107</th>\n",
              "      <td>1150.0</td>\n",
              "      <td>70.0</td>\n",
              "      <td>29.0</td>\n",
              "      <td>71.0</td>\n",
              "      <td>21.0</td>\n",
              "      <td>19.0</td>\n",
              "      <td>9.0</td>\n",
              "    </tr>\n",
              "    <tr>\n",
              "      <th>108</th>\n",
              "      <td>1150.0</td>\n",
              "      <td>70.0</td>\n",
              "      <td>29.0</td>\n",
              "      <td>71.0</td>\n",
              "      <td>21.0</td>\n",
              "      <td>19.0</td>\n",
              "      <td>9.0</td>\n",
              "    </tr>\n",
              "  </tbody>\n",
              "</table>\n",
              "<p>109 rows × 7 columns</p>\n",
              "</div>"
            ],
            "text/plain": [
              "     RainFall  Fertilizer  Temperature  Nitrogen  Phosphorus  Potassium  Yield\n",
              "0      1230.0        80.0         28.0      80.0        24.0       20.0   12.0\n",
              "1       480.0        60.0         36.0      70.0        20.0       18.0    8.0\n",
              "2      1250.0        75.0         29.0      78.0        22.0       19.0   11.0\n",
              "3       450.0        65.0         35.0      70.0        19.0       18.0    9.0\n",
              "4      1200.0        80.0         27.0      79.0        22.0       19.0   11.0\n",
              "..        ...         ...          ...       ...         ...        ...    ...\n",
              "104    1150.0        70.0         29.0      71.0        21.0       19.0    9.0\n",
              "105    1150.0        70.0         29.0      71.0        21.0       19.0    9.0\n",
              "106    1150.0        70.0         29.0      71.0        21.0       19.0    9.0\n",
              "107    1150.0        70.0         29.0      71.0        21.0       19.0    9.0\n",
              "108    1150.0        70.0         29.0      71.0        21.0       19.0    9.0\n",
              "\n",
              "[109 rows x 7 columns]"
            ]
          },
          "execution_count": 40,
          "metadata": {},
          "output_type": "execute_result"
        }
      ],
      "source": [
        "data"
      ]
    },
    {
      "cell_type": "markdown",
      "metadata": {
        "id": "_lc06UaNhLOb"
      },
      "source": [
        "## **Data Visualisation**"
      ]
    },
    {
      "cell_type": "markdown",
      "metadata": {
        "id": "73vwbKz5fTtH"
      },
      "source": [
        "### **Checking for the correlations between Y which is the yield and X which are Rain Fall (mm),Fertilizer,Temperatue,\tNitrogen (N), Phosphorus (P), Potassium (K).**"
      ]
    },
    {
      "cell_type": "code",
      "execution_count": 25,
      "metadata": {
        "colab": {
          "base_uri": "https://localhost:8080/",
          "height": 553
        },
        "id": "2_hNEDFx5sXG",
        "outputId": "74b111da-f3a3-4733-a0aa-2714a05c41f4"
      },
      "outputs": [
        {
          "data": {
            "image/png": "[encoded data removed]",
            "text/plain": [
              "<Figure size 1800x400 with 3 Axes>"
            ]
          },
          "metadata": {},
          "output_type": "display_data"
        },
        {
          "data": {
            "image/png": "[encoded data removed]",
            "text/plain": [
              "<Figure size 1800x400 with 3 Axes>"
            ]
          },
          "metadata": {},
          "output_type": "display_data"
        }
      ],
      "source": [
        "num_data = data.select_dtypes(include = 'number')\n",
        "\n",
        "def plotter(data, a, b, c, dependent):\n",
        "    plt.figure(figsize = (18, 4))\n",
        "\n",
        "    plt.subplot(1, 3, 1)\n",
        "    sns.regplot(y = data[dependent], x = data[a], ci = 0)\n",
        "    plt.title(f\"Correlation Between Yield and {a} is {(data[dependent].corr(data[a]).round(2))}\")\n",
        "\n",
        "    plt.subplot(1, 3, 2)\n",
        "    sns.regplot(y = data[dependent], x = data[b], ci = 0)\n",
        "    plt.title(f\"Correlation Between Yield and {b} is {(data[dependent].corr(data[b]).round(2))}\")\n",
        "\n",
        "    plt.subplot(1, 3, 3)\n",
        "    sns.regplot(y = data[dependent], x = data[c], ci = 0)\n",
        "    plt.title(f\"Correlation Between Yield and {c} is {(data[dependent].corr(data[c]).round(2))}\")\n",
        "\n",
        "plotter(data, 'RainFall', 'Fertilizer','Temperatue', 'Yield')\n",
        "\n",
        "plotter(data, 'Nitrogen', 'Phosphorus', 'Potassium', 'Yield')"
      ]
    },
    {
      "cell_type": "code",
      "execution_count": 26,
      "metadata": {
        "colab": {
          "base_uri": "https://localhost:8080/",
          "height": 522
        },
        "id": "PXHuG9_Ahm6X",
        "outputId": "f638e122-01fd-429d-f8f6-72595748826b"
      },
      "outputs": [
        {
          "data": {
            "text/plain": [
              "<Axes: >"
            ]
          },
          "execution_count": 26,
          "metadata": {},
          "output_type": "execute_result"
        },
        {
          "data": {
            "image/png": "[encoded data removed]",
            "text/plain": [
              "<Figure size 640x480 with 2 Axes>"
            ]
          },
          "metadata": {},
          "output_type": "display_data"
        }
      ],
      "source": [
        "# MULTI- COLINEARITY\n",
        "sns.heatmap(data.corr(), annot = True, cmap = 'BuPu')"
      ]
    },
    {
      "cell_type": "markdown",
      "metadata": {
        "id": "BUeOnlLYoMHl"
      },
      "source": [
        "## Checking for **outliers**"
      ]
    },
    {
      "cell_type": "code",
      "execution_count": 27,
      "metadata": {
        "colab": {
          "base_uri": "https://localhost:8080/",
          "height": 476
        },
        "id": "kiwAPD0fhwp4",
        "outputId": "2225974f-f800-40aa-b350-74b50a25386a"
      },
      "outputs": [
        {
          "data": {
            "image/png": "[encoded data removed]",
            "text/plain": [
              "<Figure size 1800x300 with 3 Axes>"
            ]
          },
          "metadata": {},
          "output_type": "display_data"
        },
        {
          "data": {
            "image/png": "[encoded data removed]",
            "text/plain": [
              "<Figure size 1800x300 with 3 Axes>"
            ]
          },
          "metadata": {},
          "output_type": "display_data"
        }
      ],
      "source": [
        "def outlierChecker(data, a,b,c,d):\n",
        "    plt.figure(figsize = (18, 3))\n",
        "    sns.set(style = 'darkgrid')\n",
        "\n",
        "    plt.subplot(1, 3, 1)\n",
        "    sns.boxplot(x = data[a])\n",
        "    plt.title(f\"{a} boxplot\")\n",
        "\n",
        "    plt.subplot(1, 3, 2)\n",
        "    sns.boxplot(x = data[b])\n",
        "    plt.title(f\"{b} boxplot\")\n",
        "\n",
        "    plt.subplot(1, 3, 3)\n",
        "    sns.boxplot(x = data[c])\n",
        "    plt.title(f\"{c} boxplot\")\n",
        "\n",
        "    plt.subplot(1, 3, 1)\n",
        "    sns.boxplot(x = data[d])\n",
        "    plt.title(f\"{d} boxplot\")\n",
        "\n",
        "\n",
        "\n",
        "outlierChecker(data, 'RainFall', 'Fertilizer','Temperatue', 'Yield')\n",
        "\n",
        "outlierChecker(data, 'RainFall', 'Fertilizer','Temperatue', 'Yield')\n"
      ]
    },
    {
      "cell_type": "code",
      "execution_count": null,
      "metadata": {
        "id": "7OsUCN5EzZw1"
      },
      "outputs": [],
      "source": []
    },
    {
      "cell_type": "markdown",
      "metadata": {
        "id": "3RM3NW7Q3RzJ"
      },
      "source": [
        "# **Model Training**\n",
        "A machine learning training model is a process in which a machine learning (ML) algorithm is fed with sufficient training data to learn from.There are several types of machine learning models, of which the most common ones are supervised and unsupervised learning.Supervised learning is possible when the training data contains both the input and output values. Each set of data that has the inputs and the expected output is called a supervisory signal. The training is done based on the deviation of the processed result from the documented result when the inputs are fed into the model.\n",
        "\n",
        "Unsupervised learning involves determining patterns in the data. Additional data is then used to fit patterns or clusters. This is also an iterative process that improves the accuracy based on the correlation to the expected patterns or clusters. There is no reference output dataset in this method.\n",
        " For the sake of this project i will be using a type of supervised learning called Linear regression.\n",
        " Regression is a supervised learning technique used to predict continuous numerical values based on input features. It aims to establish a functional relationship between independent variables and a dependent variable.\n",
        " The goal is to minimize the difference between predicted and actual values using algorithms like Linear Regression, Decision Trees, or Neural Networks, ensuring the model captures underlying patterns in the data."
      ]
    },
    {
      "cell_type": "markdown",
      "metadata": {
        "id": "KhXSSqh6j6ib"
      },
      "source": [
        "### **Seperating the dataset to train and test importing the algorithm to be used.**"
      ]
    },
    {
      "cell_type": "code",
      "execution_count": 41,
      "metadata": {
        "colab": {
          "base_uri": "https://localhost:8080/"
        },
        "id": "ZCJ5ReSz47Ij",
        "outputId": "0f322ed5-8fb8-4f01-b486-414cc24feafb"
      },
      "outputs": [
        {
          "name": "stdout",
          "output_type": "stream",
          "text": [
            "Xtrain: (87, 6)\n",
            "ytrain: (87,)\n",
            "Xtest: (22, 6)\n",
            "ytest: (22,)\n"
          ]
        }
      ],
      "source": [
        "\n",
        "x = data.drop('Yield', axis = 1)\n",
        "y = data.Yield\n",
        "\n",
        "xtrain, xtest, ytrain,ytest = train_test_split(x, y, test_size = 0.20, random_state = 10)\n",
        "print(f'Xtrain: {xtrain.shape}')\n",
        "print(f'ytrain: {ytrain.shape}')\n",
        "print(f'Xtest: {xtest.shape}')\n",
        "print(f'ytest: {ytest.shape}')\n"
      ]
    },
    {
      "cell_type": "code",
      "execution_count": 42,
      "metadata": {
        "colab": {
          "base_uri": "https://localhost:8080/"
        },
        "id": "ri0LANN9AxNM",
        "outputId": "47fea0b1-d606-43ca-cb98-e6905c84f77e"
      },
      "outputs": [
        {
          "name": "stdout",
          "output_type": "stream",
          "text": [
            "Cross Validation Score: 0.8469273209543173\n"
          ]
        }
      ],
      "source": [
        "from sklearn.linear_model import LinearRegression\n",
        "from sklearn.metrics import r2_score, mean_absolute_error\n",
        "\n",
        "regressor = LinearRegression() # ---------------------------------------- instantiate the algorithm\n",
        "regressor.fit(xtrain, ytrain) # ----------------------------------------- Fit the algorithm on the model\n",
        "\n",
        "# checking for underfitting\n",
        "cross_validation = regressor.predict(xtrain)\n",
        "print(f'Cross Validation Score: {r2_score(cross_validation, ytrain)}')"
      ]
    },
    {
      "cell_type": "code",
      "execution_count": 30,
      "metadata": {
        "id": "PeRZHkSMic7V"
      },
      "outputs": [],
      "source": [
        "#Cross Validation Score: 0.8469273209543173--- with this results it has revealed that the model is able to predict\n",
        "#accurately with the train dataset."
      ]
    },
    {
      "cell_type": "code",
      "execution_count": 43,
      "metadata": {
        "colab": {
          "base_uri": "https://localhost:8080/"
        },
        "id": "r1U_uuLBA6-5",
        "outputId": "a99c432b-e573-4996-b6f0-7023d9b4bc8b"
      },
      "outputs": [
        {
          "name": "stdout",
          "output_type": "stream",
          "text": [
            "Test Score: 0.8945611251217582\n"
          ]
        }
      ],
      "source": [
        "test = regressor.predict(xtest)\n",
        "print(f'Test Score: {r2_score(test, ytest)}')"
      ]
    },
    {
      "cell_type": "code",
      "execution_count": 32,
      "metadata": {
        "id": "sCK7vTKui7fL"
      },
      "outputs": [],
      "source": [
        "#Test Score: 0.8945611251217582 --- Test score shows that the model will be able to perform better with a new dataset."
      ]
    },
    {
      "cell_type": "code",
      "execution_count": 44,
      "metadata": {
        "id": "3zOji8W4i696"
      },
      "outputs": [
        {
          "data": {
            "text/html": [
              "<div>\n",
              "<style scoped>\n",
              "    .dataframe tbody tr th:only-of-type {\n",
              "        vertical-align: middle;\n",
              "    }\n",
              "\n",
              "    .dataframe tbody tr th {\n",
              "        vertical-align: top;\n",
              "    }\n",
              "\n",
              "    .dataframe thead th {\n",
              "        text-align: right;\n",
              "    }\n",
              "</style>\n",
              "<table border=\"1\" class=\"dataframe\">\n",
              "  <thead>\n",
              "    <tr style=\"text-align: right;\">\n",
              "      <th></th>\n",
              "      <th>RainFall</th>\n",
              "      <th>Fertilizer</th>\n",
              "      <th>Temperature</th>\n",
              "      <th>Nitrogen</th>\n",
              "      <th>Phosphorus</th>\n",
              "      <th>Potassium</th>\n",
              "      <th>Yield</th>\n",
              "    </tr>\n",
              "  </thead>\n",
              "  <tbody>\n",
              "    <tr>\n",
              "      <th>0</th>\n",
              "      <td>1230.0</td>\n",
              "      <td>80.0</td>\n",
              "      <td>28.0</td>\n",
              "      <td>80.0</td>\n",
              "      <td>24.0</td>\n",
              "      <td>20.0</td>\n",
              "      <td>12.0</td>\n",
              "    </tr>\n",
              "    <tr>\n",
              "      <th>1</th>\n",
              "      <td>480.0</td>\n",
              "      <td>60.0</td>\n",
              "      <td>36.0</td>\n",
              "      <td>70.0</td>\n",
              "      <td>20.0</td>\n",
              "      <td>18.0</td>\n",
              "      <td>8.0</td>\n",
              "    </tr>\n",
              "    <tr>\n",
              "      <th>2</th>\n",
              "      <td>1250.0</td>\n",
              "      <td>75.0</td>\n",
              "      <td>29.0</td>\n",
              "      <td>78.0</td>\n",
              "      <td>22.0</td>\n",
              "      <td>19.0</td>\n",
              "      <td>11.0</td>\n",
              "    </tr>\n",
              "    <tr>\n",
              "      <th>3</th>\n",
              "      <td>450.0</td>\n",
              "      <td>65.0</td>\n",
              "      <td>35.0</td>\n",
              "      <td>70.0</td>\n",
              "      <td>19.0</td>\n",
              "      <td>18.0</td>\n",
              "      <td>9.0</td>\n",
              "    </tr>\n",
              "    <tr>\n",
              "      <th>4</th>\n",
              "      <td>1200.0</td>\n",
              "      <td>80.0</td>\n",
              "      <td>27.0</td>\n",
              "      <td>79.0</td>\n",
              "      <td>22.0</td>\n",
              "      <td>19.0</td>\n",
              "      <td>11.0</td>\n",
              "    </tr>\n",
              "    <tr>\n",
              "      <th>...</th>\n",
              "      <td>...</td>\n",
              "      <td>...</td>\n",
              "      <td>...</td>\n",
              "      <td>...</td>\n",
              "      <td>...</td>\n",
              "      <td>...</td>\n",
              "      <td>...</td>\n",
              "    </tr>\n",
              "    <tr>\n",
              "      <th>104</th>\n",
              "      <td>1150.0</td>\n",
              "      <td>70.0</td>\n",
              "      <td>29.0</td>\n",
              "      <td>71.0</td>\n",
              "      <td>21.0</td>\n",
              "      <td>19.0</td>\n",
              "      <td>9.0</td>\n",
              "    </tr>\n",
              "    <tr>\n",
              "      <th>105</th>\n",
              "      <td>1150.0</td>\n",
              "      <td>70.0</td>\n",
              "      <td>29.0</td>\n",
              "      <td>71.0</td>\n",
              "      <td>21.0</td>\n",
              "      <td>19.0</td>\n",
              "      <td>9.0</td>\n",
              "    </tr>\n",
              "    <tr>\n",
              "      <th>106</th>\n",
              "      <td>1150.0</td>\n",
              "      <td>70.0</td>\n",
              "      <td>29.0</td>\n",
              "      <td>71.0</td>\n",
              "      <td>21.0</td>\n",
              "      <td>19.0</td>\n",
              "      <td>9.0</td>\n",
              "    </tr>\n",
              "    <tr>\n",
              "      <th>107</th>\n",
              "      <td>1150.0</td>\n",
              "      <td>70.0</td>\n",
              "      <td>29.0</td>\n",
              "      <td>71.0</td>\n",
              "      <td>21.0</td>\n",
              "      <td>19.0</td>\n",
              "      <td>9.0</td>\n",
              "    </tr>\n",
              "    <tr>\n",
              "      <th>108</th>\n",
              "      <td>1150.0</td>\n",
              "      <td>70.0</td>\n",
              "      <td>29.0</td>\n",
              "      <td>71.0</td>\n",
              "      <td>21.0</td>\n",
              "      <td>19.0</td>\n",
              "      <td>9.0</td>\n",
              "    </tr>\n",
              "  </tbody>\n",
              "</table>\n",
              "<p>109 rows × 7 columns</p>\n",
              "</div>"
            ],
            "text/plain": [
              "     RainFall  Fertilizer  Temperature  Nitrogen  Phosphorus  Potassium  Yield\n",
              "0      1230.0        80.0         28.0      80.0        24.0       20.0   12.0\n",
              "1       480.0        60.0         36.0      70.0        20.0       18.0    8.0\n",
              "2      1250.0        75.0         29.0      78.0        22.0       19.0   11.0\n",
              "3       450.0        65.0         35.0      70.0        19.0       18.0    9.0\n",
              "4      1200.0        80.0         27.0      79.0        22.0       19.0   11.0\n",
              "..        ...         ...          ...       ...         ...        ...    ...\n",
              "104    1150.0        70.0         29.0      71.0        21.0       19.0    9.0\n",
              "105    1150.0        70.0         29.0      71.0        21.0       19.0    9.0\n",
              "106    1150.0        70.0         29.0      71.0        21.0       19.0    9.0\n",
              "107    1150.0        70.0         29.0      71.0        21.0       19.0    9.0\n",
              "108    1150.0        70.0         29.0      71.0        21.0       19.0    9.0\n",
              "\n",
              "[109 rows x 7 columns]"
            ]
          },
          "execution_count": 44,
          "metadata": {},
          "output_type": "execute_result"
        }
      ],
      "source": [
        "data"
      ]
    },
    {
      "cell_type": "code",
      "execution_count": 45,
      "metadata": {
        "colab": {
          "base_uri": "https://localhost:8080/",
          "height": 739
        },
        "id": "SvGCkfTkCT7N",
        "outputId": "abb85a78-e649-44b7-d8bb-1149e9a3ccf3"
      },
      "outputs": [
        {
          "data": {
            "text/html": [
              "<div>\n",
              "<style scoped>\n",
              "    .dataframe tbody tr th:only-of-type {\n",
              "        vertical-align: middle;\n",
              "    }\n",
              "\n",
              "    .dataframe tbody tr th {\n",
              "        vertical-align: top;\n",
              "    }\n",
              "\n",
              "    .dataframe thead th {\n",
              "        text-align: right;\n",
              "    }\n",
              "</style>\n",
              "<table border=\"1\" class=\"dataframe\">\n",
              "  <thead>\n",
              "    <tr style=\"text-align: right;\">\n",
              "      <th></th>\n",
              "      <th>RainFall</th>\n",
              "      <th>Fertilizer</th>\n",
              "      <th>Temperature</th>\n",
              "      <th>Nitrogen</th>\n",
              "      <th>Phosphorus</th>\n",
              "      <th>Potassium</th>\n",
              "      <th>Yield</th>\n",
              "      <th>Predicted</th>\n",
              "    </tr>\n",
              "  </thead>\n",
              "  <tbody>\n",
              "    <tr>\n",
              "      <th>0</th>\n",
              "      <td>1250.0</td>\n",
              "      <td>77.0</td>\n",
              "      <td>28.0</td>\n",
              "      <td>76.0</td>\n",
              "      <td>22.0</td>\n",
              "      <td>19.0</td>\n",
              "      <td>10.0</td>\n",
              "      <td>10.154463</td>\n",
              "    </tr>\n",
              "    <tr>\n",
              "      <th>1</th>\n",
              "      <td>450.0</td>\n",
              "      <td>56.0</td>\n",
              "      <td>40.0</td>\n",
              "      <td>67.0</td>\n",
              "      <td>18.0</td>\n",
              "      <td>15.0</td>\n",
              "      <td>7.0</td>\n",
              "      <td>6.382524</td>\n",
              "    </tr>\n",
              "    <tr>\n",
              "      <th>2</th>\n",
              "      <td>1150.0</td>\n",
              "      <td>70.0</td>\n",
              "      <td>29.0</td>\n",
              "      <td>71.0</td>\n",
              "      <td>21.0</td>\n",
              "      <td>19.0</td>\n",
              "      <td>9.0</td>\n",
              "      <td>9.544429</td>\n",
              "    </tr>\n",
              "    <tr>\n",
              "      <th>3</th>\n",
              "      <td>1275.0</td>\n",
              "      <td>77.0</td>\n",
              "      <td>27.0</td>\n",
              "      <td>78.0</td>\n",
              "      <td>21.0</td>\n",
              "      <td>20.0</td>\n",
              "      <td>11.0</td>\n",
              "      <td>10.703564</td>\n",
              "    </tr>\n",
              "    <tr>\n",
              "      <th>4</th>\n",
              "      <td>400.0</td>\n",
              "      <td>60.0</td>\n",
              "      <td>39.0</td>\n",
              "      <td>60.0</td>\n",
              "      <td>18.0</td>\n",
              "      <td>15.0</td>\n",
              "      <td>6.0</td>\n",
              "      <td>5.709109</td>\n",
              "    </tr>\n",
              "    <tr>\n",
              "      <th>5</th>\n",
              "      <td>1150.0</td>\n",
              "      <td>70.0</td>\n",
              "      <td>29.0</td>\n",
              "      <td>71.0</td>\n",
              "      <td>21.0</td>\n",
              "      <td>19.0</td>\n",
              "      <td>9.0</td>\n",
              "      <td>9.544429</td>\n",
              "    </tr>\n",
              "    <tr>\n",
              "      <th>6</th>\n",
              "      <td>425.0</td>\n",
              "      <td>60.0</td>\n",
              "      <td>39.0</td>\n",
              "      <td>60.0</td>\n",
              "      <td>18.0</td>\n",
              "      <td>15.0</td>\n",
              "      <td>6.0</td>\n",
              "      <td>5.681696</td>\n",
              "    </tr>\n",
              "    <tr>\n",
              "      <th>7</th>\n",
              "      <td>450.0</td>\n",
              "      <td>65.0</td>\n",
              "      <td>39.0</td>\n",
              "      <td>70.0</td>\n",
              "      <td>20.0</td>\n",
              "      <td>19.0</td>\n",
              "      <td>8.5</td>\n",
              "      <td>8.269214</td>\n",
              "    </tr>\n",
              "    <tr>\n",
              "      <th>8</th>\n",
              "      <td>1200.0</td>\n",
              "      <td>78.0</td>\n",
              "      <td>27.0</td>\n",
              "      <td>78.0</td>\n",
              "      <td>23.0</td>\n",
              "      <td>19.0</td>\n",
              "      <td>12.0</td>\n",
              "      <td>10.764958</td>\n",
              "    </tr>\n",
              "    <tr>\n",
              "      <th>9</th>\n",
              "      <td>445.0</td>\n",
              "      <td>60.0</td>\n",
              "      <td>38.0</td>\n",
              "      <td>68.0</td>\n",
              "      <td>22.0</td>\n",
              "      <td>18.0</td>\n",
              "      <td>8.0</td>\n",
              "      <td>8.395329</td>\n",
              "    </tr>\n",
              "    <tr>\n",
              "      <th>10</th>\n",
              "      <td>1250.0</td>\n",
              "      <td>70.0</td>\n",
              "      <td>24.0</td>\n",
              "      <td>70.0</td>\n",
              "      <td>22.0</td>\n",
              "      <td>18.0</td>\n",
              "      <td>11.0</td>\n",
              "      <td>10.119695</td>\n",
              "    </tr>\n",
              "    <tr>\n",
              "      <th>11</th>\n",
              "      <td>450.0</td>\n",
              "      <td>65.0</td>\n",
              "      <td>35.0</td>\n",
              "      <td>70.0</td>\n",
              "      <td>19.0</td>\n",
              "      <td>18.0</td>\n",
              "      <td>9.0</td>\n",
              "      <td>8.545886</td>\n",
              "    </tr>\n",
              "    <tr>\n",
              "      <th>12</th>\n",
              "      <td>1275.0</td>\n",
              "      <td>77.0</td>\n",
              "      <td>28.0</td>\n",
              "      <td>76.0</td>\n",
              "      <td>22.0</td>\n",
              "      <td>19.0</td>\n",
              "      <td>10.0</td>\n",
              "      <td>10.127051</td>\n",
              "    </tr>\n",
              "    <tr>\n",
              "      <th>13</th>\n",
              "      <td>1250.0</td>\n",
              "      <td>75.0</td>\n",
              "      <td>29.0</td>\n",
              "      <td>78.0</td>\n",
              "      <td>22.0</td>\n",
              "      <td>19.0</td>\n",
              "      <td>11.0</td>\n",
              "      <td>10.251528</td>\n",
              "    </tr>\n",
              "    <tr>\n",
              "      <th>14</th>\n",
              "      <td>475.0</td>\n",
              "      <td>58.0</td>\n",
              "      <td>39.0</td>\n",
              "      <td>68.0</td>\n",
              "      <td>19.0</td>\n",
              "      <td>16.0</td>\n",
              "      <td>7.5</td>\n",
              "      <td>7.089047</td>\n",
              "    </tr>\n",
              "    <tr>\n",
              "      <th>15</th>\n",
              "      <td>1220.0</td>\n",
              "      <td>77.0</td>\n",
              "      <td>29.0</td>\n",
              "      <td>75.0</td>\n",
              "      <td>22.0</td>\n",
              "      <td>19.0</td>\n",
              "      <td>10.0</td>\n",
              "      <td>9.881864</td>\n",
              "    </tr>\n",
              "    <tr>\n",
              "      <th>16</th>\n",
              "      <td>1250.0</td>\n",
              "      <td>75.0</td>\n",
              "      <td>27.0</td>\n",
              "      <td>75.0</td>\n",
              "      <td>23.0</td>\n",
              "      <td>20.0</td>\n",
              "      <td>11.0</td>\n",
              "      <td>10.779054</td>\n",
              "    </tr>\n",
              "    <tr>\n",
              "      <th>17</th>\n",
              "      <td>440.0</td>\n",
              "      <td>58.0</td>\n",
              "      <td>37.0</td>\n",
              "      <td>66.0</td>\n",
              "      <td>22.0</td>\n",
              "      <td>18.0</td>\n",
              "      <td>8.0</td>\n",
              "      <td>8.423019</td>\n",
              "    </tr>\n",
              "    <tr>\n",
              "      <th>18</th>\n",
              "      <td>1150.0</td>\n",
              "      <td>70.0</td>\n",
              "      <td>29.0</td>\n",
              "      <td>71.0</td>\n",
              "      <td>21.0</td>\n",
              "      <td>19.0</td>\n",
              "      <td>9.0</td>\n",
              "      <td>9.544429</td>\n",
              "    </tr>\n",
              "    <tr>\n",
              "      <th>19</th>\n",
              "      <td>1150.0</td>\n",
              "      <td>70.0</td>\n",
              "      <td>29.0</td>\n",
              "      <td>71.0</td>\n",
              "      <td>21.0</td>\n",
              "      <td>19.0</td>\n",
              "      <td>9.0</td>\n",
              "      <td>9.544429</td>\n",
              "    </tr>\n",
              "    <tr>\n",
              "      <th>20</th>\n",
              "      <td>480.0</td>\n",
              "      <td>60.0</td>\n",
              "      <td>36.0</td>\n",
              "      <td>70.0</td>\n",
              "      <td>20.0</td>\n",
              "      <td>18.0</td>\n",
              "      <td>8.0</td>\n",
              "      <td>8.636576</td>\n",
              "    </tr>\n",
              "    <tr>\n",
              "      <th>21</th>\n",
              "      <td>410.0</td>\n",
              "      <td>60.0</td>\n",
              "      <td>39.0</td>\n",
              "      <td>65.0</td>\n",
              "      <td>18.0</td>\n",
              "      <td>15.0</td>\n",
              "      <td>6.0</td>\n",
              "      <td>6.269684</td>\n",
              "    </tr>\n",
              "  </tbody>\n",
              "</table>\n",
              "</div>"
            ],
            "text/plain": [
              "    RainFall  Fertilizer  Temperature  Nitrogen  Phosphorus  Potassium  Yield  \\\n",
              "0     1250.0        77.0         28.0      76.0        22.0       19.0   10.0   \n",
              "1      450.0        56.0         40.0      67.0        18.0       15.0    7.0   \n",
              "2     1150.0        70.0         29.0      71.0        21.0       19.0    9.0   \n",
              "3     1275.0        77.0         27.0      78.0        21.0       20.0   11.0   \n",
              "4      400.0        60.0         39.0      60.0        18.0       15.0    6.0   \n",
              "5     1150.0        70.0         29.0      71.0        21.0       19.0    9.0   \n",
              "6      425.0        60.0         39.0      60.0        18.0       15.0    6.0   \n",
              "7      450.0        65.0         39.0      70.0        20.0       19.0    8.5   \n",
              "8     1200.0        78.0         27.0      78.0        23.0       19.0   12.0   \n",
              "9      445.0        60.0         38.0      68.0        22.0       18.0    8.0   \n",
              "10    1250.0        70.0         24.0      70.0        22.0       18.0   11.0   \n",
              "11     450.0        65.0         35.0      70.0        19.0       18.0    9.0   \n",
              "12    1275.0        77.0         28.0      76.0        22.0       19.0   10.0   \n",
              "13    1250.0        75.0         29.0      78.0        22.0       19.0   11.0   \n",
              "14     475.0        58.0         39.0      68.0        19.0       16.0    7.5   \n",
              "15    1220.0        77.0         29.0      75.0        22.0       19.0   10.0   \n",
              "16    1250.0        75.0         27.0      75.0        23.0       20.0   11.0   \n",
              "17     440.0        58.0         37.0      66.0        22.0       18.0    8.0   \n",
              "18    1150.0        70.0         29.0      71.0        21.0       19.0    9.0   \n",
              "19    1150.0        70.0         29.0      71.0        21.0       19.0    9.0   \n",
              "20     480.0        60.0         36.0      70.0        20.0       18.0    8.0   \n",
              "21     410.0        60.0         39.0      65.0        18.0       15.0    6.0   \n",
              "\n",
              "    Predicted  \n",
              "0   10.154463  \n",
              "1    6.382524  \n",
              "2    9.544429  \n",
              "3   10.703564  \n",
              "4    5.709109  \n",
              "5    9.544429  \n",
              "6    5.681696  \n",
              "7    8.269214  \n",
              "8   10.764958  \n",
              "9    8.395329  \n",
              "10  10.119695  \n",
              "11   8.545886  \n",
              "12  10.127051  \n",
              "13  10.251528  \n",
              "14   7.089047  \n",
              "15   9.881864  \n",
              "16  10.779054  \n",
              "17   8.423019  \n",
              "18   9.544429  \n",
              "19   9.544429  \n",
              "20   8.636576  \n",
              "21   6.269684  "
            ]
          },
          "execution_count": 45,
          "metadata": {},
          "output_type": "execute_result"
        }
      ],
      "source": [
        "output = pd.concat([xtest.reset_index(drop = True), ytest.reset_index(drop = True)], axis = 1)\n",
        "output['Predicted'] =  pd.Series(test)\n",
        "output"
      ]
    },
    {
      "cell_type": "code",
      "execution_count": 46,
      "metadata": {
        "id": "Aoh4x-SJFNwL"
      },
      "outputs": [],
      "source": [
        "\n",
        "joblib.dump(regressor, open('CropPrediction.pkl', 'wb'))"
      ]
    },
    {
      "cell_type": "code",
      "execution_count": 48,
      "metadata": {},
      "outputs": [
        {
          "data": {
            "text/plain": [
              "dtype('float64')"
            ]
          },
          "execution_count": 48,
          "metadata": {},
          "output_type": "execute_result"
        }
      ],
      "source": [
        "data['Temperature'].dtypes"
      ]
    },
    {
      "cell_type": "code",
      "execution_count": null,
      "metadata": {},
      "outputs": [],
      "source": []
    }
  ],
  "metadata": {
    "colab": {
      "provenance": []
    },
    "kernelspec": {
      "display_name": "Python 3",
      "name": "python3"
    },
    "language_info": {
      "codemirror_mode": {
        "name": "ipython",
        "version": 3
      },
      "file_extension": ".py",
      "mimetype": "text/x-python",
      "name": "python",
      "nbconvert_exporter": "python",
      "pygments_lexer": "ipython3",
      "version": "3.11.1"
    }
  },
  "nbformat": 4,
  "nbformat_minor": 0
}
